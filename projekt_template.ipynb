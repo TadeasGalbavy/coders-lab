{
 "cells": [
  {
   "cell_type": "markdown",
   "id": "5f1453e00ba07110",
   "metadata": {},
   "source": [
    "### Závěrečný projekt - modul Python"
   ]
  },
  {
   "cell_type": "markdown",
   "id": "80f51208356c3824",
   "metadata": {},
   "source": [
    "V tomto projektu budete analyzovat data ze stránky `www.sreality.cz`. Budete tedy získávat aktuální nabídku bytů ve Zlíně.\n",
    "Projekt se dělí na 2 části:\n",
    "1. WebScraping - pomocí knihovny `BeautifulSoup` získejte všechny aktuální inzerce bytů v daném městě. \n",
    "- Získáte **tyto** informace: `URL odkaz bytu, rozměry bytu, dispozice bytu, cena bytu, lokace bytu (Ulice+město)`\n",
    "2. Datová analýza - ETL proces\n",
    "- V první fázi prověďte processing dat tak, aby obsahovala příslušné datové typy, nenulové hodnoty atp. Ulice i město bude v samostatných sloupcích.\n",
    "- Zprocesovaná a vyčištěná data vyexportujte do `.csv` souboru s názvem `{vašeJméno}_zdrojová_data.csv`\n",
    "3. Datová analýza - analýza dat\n",
    "- Třetí část začněte tak, že si do dataframe nahrajete vámi vyexportovaný `.csv` soubor s vyscrapovanými daty.\n",
    "- Ve druhé fázi proveďte analýzu dat a odpovězte na tyto dotazy:\n",
    "- `Jaká je průměrná cena bytů?`\n",
    "- `Jaká je průměrná cena bytů pro každou dispozice (1+1, 2+1, atp.)? Zobrazte i na grafu.`\n",
    "- `Jaká je průměrná velikost bytu pro každou dispozice?`\n",
    "- `Existuje ulice, kde je vyšší koncentrace dražších bytů?`\n",
    "- `Jaký typ dispozice je v daném městě nejčastěji inzerovan? Který to je? Proč myslíte, že tomu tak je?`\n",
    "- `Existují zde inzerce bytů, které stojí více, než 20.000,-? Pokud ano, jsou v této cenové hladině inzerovány i maximálně dvoupokojové byty (2+1/2+kk)?`\n",
    "- `Zjištěte minimální a maximální inzerce pro každou dispozici bytu. Která dispozice má největší rozptyl mezi minimální a maximální inzerovanou cenou?`\n",
    "\n",
    "\n",
    "Dotazy zodpovězte ve vašem pracovním notebooku a výsledný soubor nahrajte na GitHub.\n"
   ]
  },
  {
   "cell_type": "markdown",
   "id": "59dc9d3b2384bd4e",
   "metadata": {},
   "source": [
    "### WebScraping"
   ]
  },
  {
   "cell_type": "code",
   "execution_count": null,
   "id": "initial_id",
   "metadata": {
    "collapsed": true
   },
   "outputs": [],
   "source": [
    "from bs4 import BeautifulSoup\n",
    "import requests\n",
    "from pprint import pprint\n",
    "import matplotlib.pyplot as plt\n",
    "\n",
    "strana = 1\n",
    "zoznamBytov = []\n",
    "\n",
    "while True:\n",
    "    print(f'Prechádzam stránku číslo {strana}')\n",
    "    response = requests.get(f'https://www.sreality.cz/hledani/pronajem/byty/zlin?strana={strana}').text\n",
    "    soup = BeautifulSoup(response, 'html.parser')\n",
    "\n",
    "    vsetkyByty = soup.find_all(name='li', class_='MuiGrid2-root')\n",
    "\n",
    "    for byt in vsetkyByty:\n",
    "        # ošetrenie inzercie - Ďakujem :D \n",
    "        try:\n",
    "            castUrlBytu = byt.find(name='a', class_='MuiTypography-root')['href']\n",
    "            celaUrlBytu = 'https://www.sreality.cz' + castUrlBytu\n",
    "\n",
    "            # najskôr si vytiahnem všetky P elementy s konkretnou class a následne ich podľa indexu rozdelím\n",
    "            nazovLokalita = byt.find_all(name='p', class_='css-d7upve')\n",
    "            nazovBytu = nazovLokalita[0].text.strip()\n",
    "            lokalitaBytu = nazovLokalita[1].text.strip()\n",
    "\n",
    "            cena = byt.find(name='p', class_='css-ca9wwd').text.strip().replace('\\xa0', '').replace('Kč/měsíc', '').replace('Kč', '')\n",
    "\n",
    "        # v prípade chyby vypíšem hlášku a pokrečujem\n",
    "        except Exception as e:\n",
    "            print(\"Inzercia! Preskakujem a pokračujem\")\n",
    "            continue\n",
    "        \n",
    "        # tvorba jedného záznamu\n",
    "        jedenZaznam = {\n",
    "            'Url_inzercie': celaUrlBytu,\n",
    "            'Nazov_inzercie': nazovBytu,\n",
    "            'Lokalita': lokalitaBytu,\n",
    "            'Cena': cena\n",
    "        }\n",
    "\n",
    "        # append záznamu do zoznamu\n",
    "        zoznamBytov.append(jedenZaznam)\n",
    "\n",
    "    # hľadanie buttonu s text obsahom Další stránka\n",
    "    buttonNext = soup.find(name='div', class_='css-1wzyqky').text\n",
    "\n",
    "    # kontrola výskytu buttonu\n",
    "    if buttonNext != 'Další stránka':\n",
    "        # v prípade že sa nevyskytuje, končíme\n",
    "        print('Končím scrapping')\n",
    "        break\n",
    "    else:\n",
    "        strana += 1"
   ]
  },
  {
   "cell_type": "markdown",
   "id": "f54576ab629fed11",
   "metadata": {},
   "source": [
    "### Datová analýza"
   ]
  },
  {
   "cell_type": "code",
   "execution_count": 5,
   "id": "4a2f14acc4baf746",
   "metadata": {},
   "outputs": [],
   "source": [
    "import pandas as pd\n",
    "\n",
    "df = pd.DataFrame(zoznamBytov)\n",
    "\n",
    "# odfiltrovanie ceny: cena na vyžiadanie\n",
    "df_final = df.loc[ df['Cena'] != 'Cena na vyžádání' ].copy()\n",
    "\n",
    "# pretypovanie ceny na float\n",
    "df_final['Cena'] = df_final['Cena'].astype(float)\n",
    "\n",
    "# vytiahnutie dispozície + rozlohy do samostatných stĺpcov\n",
    "# s týmto som mal veľký problém tu mi musel pomôcť až chat\n",
    "df_final[['Dispozicia', 'Rozloha']] = df_final['Nazov_inzercie'].str.extract(r'(?:bytu\\s)?(?P<Dispozicia>\\d\\+?\\d?k?k?|pokoje|atypický)\\D+?(?P<Rozloha>\\d+\\s?m²?)')\n",
    "\n",
    "# prepísanie hodnoty v dispozícií\n",
    "df_final['Dispozicia'] = df_final['Dispozicia'].replace({'pokoje': '1 pokoj'})\n",
    "\n",
    "# pretypovanie rozlohy na int\n",
    "# tak isto mi musel pomôcť chat\n",
    "df_final['Rozloha'] = df_final['Rozloha'].str.extract(r'(\\d+)').astype(int)\n",
    "\n",
    "# oddelenie ulice pomocou čiarky\n",
    "df_final['Ulica'] = df_final['Lokalita'].str.split(',').str[0]\n",
    "\n",
    "# export do CSV - JE TO ALE BEZ BYTOV kde je typ ceny: cena na vyžiadanie\n",
    "# boli to iba 2 záznamy\n",
    "df_final.to_csv('TadeasGalbavy_zdrojová_data.csv', sep=';', encoding='UTF-8', index=False)"
   ]
  },
  {
   "cell_type": "code",
   "execution_count": 6,
   "id": "8390738d",
   "metadata": {},
   "outputs": [
    {
     "data": {
      "text/plain": [
       "Index(['Url_inzercie', 'Nazov_inzercie', 'Lokalita', 'Cena', 'Dispozicia',\n",
       "       'Rozloha', 'Ulica'],\n",
       "      dtype='object')"
      ]
     },
     "execution_count": 6,
     "metadata": {},
     "output_type": "execute_result"
    }
   ],
   "source": [
    "df_byty = pd.read_csv('TadeasGalbavy_zdrojová_data.csv', sep=';', encoding='UTF-8')\n",
    "df_byty.columns"
   ]
  },
  {
   "cell_type": "markdown",
   "id": "849ec3f9",
   "metadata": {},
   "source": [
    "- `Jaká je průměrná cena bytů?`"
   ]
  },
  {
   "cell_type": "code",
   "execution_count": 8,
   "id": "d90ba818",
   "metadata": {},
   "outputs": [
    {
     "data": {
      "text/plain": [
       "np.float64(13155.51)"
      ]
     },
     "execution_count": 8,
     "metadata": {},
     "output_type": "execute_result"
    }
   ],
   "source": [
    "round(df_byty['Cena'].mean(), 2)"
   ]
  },
  {
   "cell_type": "markdown",
   "id": "773e15c4",
   "metadata": {},
   "source": [
    "- `Jaká je průměrná cena bytů pro každou dispozice (1+1, 2+1, atp.)? Zobrazte i na grafu.`"
   ]
  },
  {
   "cell_type": "code",
   "execution_count": null,
   "id": "4dd19074",
   "metadata": {},
   "outputs": [
    {
     "data": {
      "image/png": "[encoded data removed]",
      "text/plain": [
       "<Figure size 1500x500 with 1 Axes>"
      ]
     },
     "metadata": {},
     "output_type": "display_data"
    }
   ],
   "source": [
    "(df_byty.groupby('Dispozicia')['Cena']\n",
    "    .agg(['mean', 'max', 'min', 'median'])\n",
    "    .sort_values(by='mean', ascending=False)\n",
    "    .round(2)\n",
    ")\n",
    "\n",
    "df_graf = (df_byty.groupby('Dispozicia')['Cena']\n",
    "                .mean()\n",
    "                .round(2)\n",
    "                .reset_index()\n",
    "                .sort_values(by='Cena', ascending=False)\n",
    "                \n",
    "            )\n",
    "\n",
    "plt.figure(figsize=(15,5))\n",
    " \n",
    "\n",
    "plt.bar(df_graf['Dispozicia'], df_graf['Cena'], color='green', edgecolor='black')\n",
    "\n",
    "for i, v in enumerate(df_graf['Cena']):\n",
    "    plt.text(i, v + 200, f'{v:.0f}', ha='center', va='bottom', fontsize=9)\n",
    "\n",
    "plt.xticks(df_graf['Dispozicia'], rotation=90)\n",
    "plt.title('Priemerná cena bytov podľa dispizície')\n",
    "plt.ylabel('Priemerná cena')\n",
    "plt.xlabel('Dispozícia')\n",
    "plt.minorticks_on()\n",
    "\n",
    "plt.savefig('Priemerná cena bytov podľa dispizície.png', dpi=300, bbox_inches='tight', transparent=True) \n",
    "\n",
    "plt.show()"
   ]
  },
  {
   "cell_type": "code",
   "execution_count": 43,
   "id": "bb08543c",
   "metadata": {},
   "outputs": [
    {
     "data": {
      "text/html": [
       "<div>\n",
       "<style scoped>\n",
       "    .dataframe tbody tr th:only-of-type {\n",
       "        vertical-align: middle;\n",
       "    }\n",
       "\n",
       "    .dataframe tbody tr th {\n",
       "        vertical-align: top;\n",
       "    }\n",
       "\n",
       "    .dataframe thead th {\n",
       "        text-align: right;\n",
       "    }\n",
       "</style>\n",
       "<table border=\"1\" class=\"dataframe\">\n",
       "  <thead>\n",
       "    <tr style=\"text-align: right;\">\n",
       "      <th></th>\n",
       "      <th>Dispozicia</th>\n",
       "      <th>Cena</th>\n",
       "    </tr>\n",
       "  </thead>\n",
       "  <tbody>\n",
       "    <tr>\n",
       "      <th>8</th>\n",
       "      <td>4+kk</td>\n",
       "      <td>34966.67</td>\n",
       "    </tr>\n",
       "    <tr>\n",
       "      <th>7</th>\n",
       "      <td>4+1</td>\n",
       "      <td>19725.00</td>\n",
       "    </tr>\n",
       "    <tr>\n",
       "      <th>6</th>\n",
       "      <td>3+kk</td>\n",
       "      <td>17193.75</td>\n",
       "    </tr>\n",
       "    <tr>\n",
       "      <th>5</th>\n",
       "      <td>3+1</td>\n",
       "      <td>16318.57</td>\n",
       "    </tr>\n",
       "    <tr>\n",
       "      <th>4</th>\n",
       "      <td>2+kk</td>\n",
       "      <td>15387.08</td>\n",
       "    </tr>\n",
       "    <tr>\n",
       "      <th>3</th>\n",
       "      <td>2+1</td>\n",
       "      <td>12933.75</td>\n",
       "    </tr>\n",
       "    <tr>\n",
       "      <th>9</th>\n",
       "      <td>atypický</td>\n",
       "      <td>12000.00</td>\n",
       "    </tr>\n",
       "    <tr>\n",
       "      <th>2</th>\n",
       "      <td>1+kk</td>\n",
       "      <td>11043.23</td>\n",
       "    </tr>\n",
       "    <tr>\n",
       "      <th>1</th>\n",
       "      <td>1+1</td>\n",
       "      <td>10505.13</td>\n",
       "    </tr>\n",
       "    <tr>\n",
       "      <th>0</th>\n",
       "      <td>1 pokoj</td>\n",
       "      <td>6500.73</td>\n",
       "    </tr>\n",
       "  </tbody>\n",
       "</table>\n",
       "</div>"
      ],
      "text/plain": [
       "  Dispozicia      Cena\n",
       "8       4+kk  34966.67\n",
       "7        4+1  19725.00\n",
       "6       3+kk  17193.75\n",
       "5        3+1  16318.57\n",
       "4       2+kk  15387.08\n",
       "3        2+1  12933.75\n",
       "9   atypický  12000.00\n",
       "2       1+kk  11043.23\n",
       "1        1+1  10505.13\n",
       "0    1 pokoj   6500.73"
      ]
     },
     "execution_count": 43,
     "metadata": {},
     "output_type": "execute_result"
    }
   ],
   "source": [
    "(df_byty.groupby('Dispozicia')['Cena']\n",
    "                .mean()\n",
    "                .round(2)\n",
    "                .reset_index()\n",
    "                .sort_values(by='Cena', ascending=False)\n",
    "            )"
   ]
  },
  {
   "cell_type": "markdown",
   "id": "51a596eb",
   "metadata": {},
   "source": [
    "- `Jaká je průměrná velikost bytu pro každou dispozice?`"
   ]
  },
  {
   "cell_type": "code",
   "execution_count": 45,
   "id": "132fa98f",
   "metadata": {},
   "outputs": [
    {
     "data": {
      "text/html": [
       "<div>\n",
       "<style scoped>\n",
       "    .dataframe tbody tr th:only-of-type {\n",
       "        vertical-align: middle;\n",
       "    }\n",
       "\n",
       "    .dataframe tbody tr th {\n",
       "        vertical-align: top;\n",
       "    }\n",
       "\n",
       "    .dataframe thead th {\n",
       "        text-align: right;\n",
       "    }\n",
       "</style>\n",
       "<table border=\"1\" class=\"dataframe\">\n",
       "  <thead>\n",
       "    <tr style=\"text-align: right;\">\n",
       "      <th></th>\n",
       "      <th>Dispozicia</th>\n",
       "      <th>priemerna rozloha</th>\n",
       "    </tr>\n",
       "  </thead>\n",
       "  <tbody>\n",
       "    <tr>\n",
       "      <th>8</th>\n",
       "      <td>4+kk</td>\n",
       "      <td>120.00</td>\n",
       "    </tr>\n",
       "    <tr>\n",
       "      <th>7</th>\n",
       "      <td>4+1</td>\n",
       "      <td>84.50</td>\n",
       "    </tr>\n",
       "    <tr>\n",
       "      <th>5</th>\n",
       "      <td>3+1</td>\n",
       "      <td>71.81</td>\n",
       "    </tr>\n",
       "    <tr>\n",
       "      <th>6</th>\n",
       "      <td>3+kk</td>\n",
       "      <td>68.06</td>\n",
       "    </tr>\n",
       "    <tr>\n",
       "      <th>9</th>\n",
       "      <td>atypický</td>\n",
       "      <td>59.00</td>\n",
       "    </tr>\n",
       "    <tr>\n",
       "      <th>3</th>\n",
       "      <td>2+1</td>\n",
       "      <td>57.95</td>\n",
       "    </tr>\n",
       "    <tr>\n",
       "      <th>4</th>\n",
       "      <td>2+kk</td>\n",
       "      <td>51.17</td>\n",
       "    </tr>\n",
       "    <tr>\n",
       "      <th>0</th>\n",
       "      <td>1 pokoj</td>\n",
       "      <td>42.09</td>\n",
       "    </tr>\n",
       "    <tr>\n",
       "      <th>1</th>\n",
       "      <td>1+1</td>\n",
       "      <td>35.17</td>\n",
       "    </tr>\n",
       "    <tr>\n",
       "      <th>2</th>\n",
       "      <td>1+kk</td>\n",
       "      <td>29.85</td>\n",
       "    </tr>\n",
       "  </tbody>\n",
       "</table>\n",
       "</div>"
      ],
      "text/plain": [
       "  Dispozicia  priemerna rozloha\n",
       "8       4+kk             120.00\n",
       "7        4+1              84.50\n",
       "5        3+1              71.81\n",
       "6       3+kk              68.06\n",
       "9   atypický              59.00\n",
       "3        2+1              57.95\n",
       "4       2+kk              51.17\n",
       "0    1 pokoj              42.09\n",
       "1        1+1              35.17\n",
       "2       1+kk              29.85"
      ]
     },
     "execution_count": 45,
     "metadata": {},
     "output_type": "execute_result"
    }
   ],
   "source": [
    "(df_byty.groupby('Dispozicia')['Rozloha']\n",
    "    .mean()\n",
    "    .round(2)\n",
    "    .reset_index(name='priemerna rozloha')\n",
    "    .sort_values(by='priemerna rozloha', ascending=False)\n",
    ")"
   ]
  },
  {
   "cell_type": "markdown",
   "id": "68f38612",
   "metadata": {},
   "source": [
    "- `Existuje ulice, kde je vyšší koncentrace dražších bytů?`"
   ]
  },
  {
   "cell_type": "code",
   "execution_count": null,
   "id": "8d14a8fa",
   "metadata": {},
   "outputs": [
    {
     "data": {
      "text/html": [
       "<div>\n",
       "<style scoped>\n",
       "    .dataframe tbody tr th:only-of-type {\n",
       "        vertical-align: middle;\n",
       "    }\n",
       "\n",
       "    .dataframe tbody tr th {\n",
       "        vertical-align: top;\n",
       "    }\n",
       "\n",
       "    .dataframe thead th {\n",
       "        text-align: right;\n",
       "    }\n",
       "</style>\n",
       "<table border=\"1\" class=\"dataframe\">\n",
       "  <thead>\n",
       "    <tr style=\"text-align: right;\">\n",
       "      <th></th>\n",
       "      <th>Ulica</th>\n",
       "      <th>Uroven_ceny</th>\n",
       "    </tr>\n",
       "  </thead>\n",
       "  <tbody>\n",
       "    <tr>\n",
       "      <th>64</th>\n",
       "      <td>Štefánikova</td>\n",
       "      <td>4</td>\n",
       "    </tr>\n",
       "    <tr>\n",
       "      <th>19</th>\n",
       "      <td>Komenského</td>\n",
       "      <td>3</td>\n",
       "    </tr>\n",
       "    <tr>\n",
       "      <th>20</th>\n",
       "      <td>Kvítková</td>\n",
       "      <td>3</td>\n",
       "    </tr>\n",
       "    <tr>\n",
       "      <th>25</th>\n",
       "      <td>Moravní</td>\n",
       "      <td>3</td>\n",
       "    </tr>\n",
       "    <tr>\n",
       "      <th>37</th>\n",
       "      <td>Pasecká</td>\n",
       "      <td>3</td>\n",
       "    </tr>\n",
       "  </tbody>\n",
       "</table>\n",
       "</div>"
      ],
      "text/plain": [
       "          Ulica  Uroven_ceny\n",
       "64  Štefánikova            4\n",
       "19   Komenského            3\n",
       "20     Kvítková            3\n",
       "25      Moravní            3\n",
       "37      Pasecká            3"
      ]
     },
     "execution_count": 76,
     "metadata": {},
     "output_type": "execute_result"
    }
   ],
   "source": [
    "# priradenie príznaku či je cena nadpriemerná (True) alebo podpriemerná (False)\n",
    "df_byty['Uroven_ceny'] = df_byty['Cena'].apply(\n",
    "    lambda x: True if x > df_byty['Cena'].mean() else False\n",
    ")\n",
    "\n",
    "df_drahe = df_byty.loc[ df_byty['Uroven_ceny'] ]\n",
    "\n",
    "df_drahe.groupby('Ulica')['Uroven_ceny'].count().reset_index().nlargest(columns='Uroven_ceny', n=5)\n"
   ]
  },
  {
   "cell_type": "markdown",
   "id": "059f3301",
   "metadata": {},
   "source": [
    "- `Jaký typ dispozice je v daném městě nejčastěji inzerovan? Který to je? Proč myslíte, že tomu tak je?`"
   ]
  },
  {
   "cell_type": "code",
   "execution_count": 48,
   "id": "078b34c8",
   "metadata": {},
   "outputs": [
    {
     "data": {
      "text/html": [
       "<div>\n",
       "<style scoped>\n",
       "    .dataframe tbody tr th:only-of-type {\n",
       "        vertical-align: middle;\n",
       "    }\n",
       "\n",
       "    .dataframe tbody tr th {\n",
       "        vertical-align: top;\n",
       "    }\n",
       "\n",
       "    .dataframe thead th {\n",
       "        text-align: right;\n",
       "    }\n",
       "</style>\n",
       "<table border=\"1\" class=\"dataframe\">\n",
       "  <thead>\n",
       "    <tr style=\"text-align: right;\">\n",
       "      <th></th>\n",
       "      <th>Dispozicia</th>\n",
       "      <th>Pocet inzercii</th>\n",
       "    </tr>\n",
       "  </thead>\n",
       "  <tbody>\n",
       "    <tr>\n",
       "      <th>2</th>\n",
       "      <td>1+kk</td>\n",
       "      <td>62</td>\n",
       "    </tr>\n",
       "    <tr>\n",
       "      <th>3</th>\n",
       "      <td>2+1</td>\n",
       "      <td>40</td>\n",
       "    </tr>\n",
       "    <tr>\n",
       "      <th>4</th>\n",
       "      <td>2+kk</td>\n",
       "      <td>24</td>\n",
       "    </tr>\n",
       "    <tr>\n",
       "      <th>1</th>\n",
       "      <td>1+1</td>\n",
       "      <td>23</td>\n",
       "    </tr>\n",
       "    <tr>\n",
       "      <th>5</th>\n",
       "      <td>3+1</td>\n",
       "      <td>21</td>\n",
       "    </tr>\n",
       "  </tbody>\n",
       "</table>\n",
       "</div>"
      ],
      "text/plain": [
       "  Dispozicia  Pocet inzercii\n",
       "2       1+kk              62\n",
       "3        2+1              40\n",
       "4       2+kk              24\n",
       "1        1+1              23\n",
       "5        3+1              21"
      ]
     },
     "execution_count": 48,
     "metadata": {},
     "output_type": "execute_result"
    }
   ],
   "source": [
    "df_byty['Dispozicia'].value_counts()\n",
    "df_byty.groupby('Dispozicia')['Cena'].count().reset_index(name='Pocet inzercii').nlargest(columns='Pocet inzercii', n=5)"
   ]
  },
  {
   "cell_type": "code",
   "execution_count": 50,
   "id": "ca27803f",
   "metadata": {},
   "outputs": [
    {
     "data": {
      "text/html": [
       "<div>\n",
       "<style scoped>\n",
       "    .dataframe tbody tr th:only-of-type {\n",
       "        vertical-align: middle;\n",
       "    }\n",
       "\n",
       "    .dataframe tbody tr th {\n",
       "        vertical-align: top;\n",
       "    }\n",
       "\n",
       "    .dataframe thead th {\n",
       "        text-align: right;\n",
       "    }\n",
       "</style>\n",
       "<table border=\"1\" class=\"dataframe\">\n",
       "  <thead>\n",
       "    <tr style=\"text-align: right;\">\n",
       "      <th></th>\n",
       "      <th>Dispozicia</th>\n",
       "      <th>Pocet inzercii</th>\n",
       "    </tr>\n",
       "  </thead>\n",
       "  <tbody>\n",
       "    <tr>\n",
       "      <th>0</th>\n",
       "      <td>1 pokoj</td>\n",
       "      <td>6500.727273</td>\n",
       "    </tr>\n",
       "    <tr>\n",
       "      <th>1</th>\n",
       "      <td>1+1</td>\n",
       "      <td>10505.130435</td>\n",
       "    </tr>\n",
       "    <tr>\n",
       "      <th>2</th>\n",
       "      <td>1+kk</td>\n",
       "      <td>11043.225806</td>\n",
       "    </tr>\n",
       "    <tr>\n",
       "      <th>9</th>\n",
       "      <td>atypický</td>\n",
       "      <td>12000.000000</td>\n",
       "    </tr>\n",
       "    <tr>\n",
       "      <th>3</th>\n",
       "      <td>2+1</td>\n",
       "      <td>12933.750000</td>\n",
       "    </tr>\n",
       "  </tbody>\n",
       "</table>\n",
       "</div>"
      ],
      "text/plain": [
       "  Dispozicia  Pocet inzercii\n",
       "0    1 pokoj     6500.727273\n",
       "1        1+1    10505.130435\n",
       "2       1+kk    11043.225806\n",
       "9   atypický    12000.000000\n",
       "3        2+1    12933.750000"
      ]
     },
     "execution_count": 50,
     "metadata": {},
     "output_type": "execute_result"
    }
   ],
   "source": [
    "df_byty.groupby('Dispozicia')['Cena'].mean().reset_index(name='Pocet inzercii').nsmallest(columns='Pocet inzercii', n=5)"
   ]
  },
  {
   "cell_type": "code",
   "execution_count": 54,
   "id": "53355ac2",
   "metadata": {},
   "outputs": [
    {
     "data": {
      "text/html": [
       "<div>\n",
       "<style scoped>\n",
       "    .dataframe tbody tr th:only-of-type {\n",
       "        vertical-align: middle;\n",
       "    }\n",
       "\n",
       "    .dataframe tbody tr th {\n",
       "        vertical-align: top;\n",
       "    }\n",
       "\n",
       "    .dataframe thead th {\n",
       "        text-align: right;\n",
       "    }\n",
       "</style>\n",
       "<table border=\"1\" class=\"dataframe\">\n",
       "  <thead>\n",
       "    <tr style=\"text-align: right;\">\n",
       "      <th></th>\n",
       "      <th>Dispozicia</th>\n",
       "      <th>min</th>\n",
       "      <th>max</th>\n",
       "      <th>mean</th>\n",
       "    </tr>\n",
       "  </thead>\n",
       "  <tbody>\n",
       "    <tr>\n",
       "      <th>0</th>\n",
       "      <td>1 pokoj</td>\n",
       "      <td>20</td>\n",
       "      <td>114</td>\n",
       "      <td>42.090909</td>\n",
       "    </tr>\n",
       "    <tr>\n",
       "      <th>1</th>\n",
       "      <td>1+1</td>\n",
       "      <td>18</td>\n",
       "      <td>49</td>\n",
       "      <td>35.173913</td>\n",
       "    </tr>\n",
       "    <tr>\n",
       "      <th>2</th>\n",
       "      <td>1+kk</td>\n",
       "      <td>20</td>\n",
       "      <td>45</td>\n",
       "      <td>29.854839</td>\n",
       "    </tr>\n",
       "    <tr>\n",
       "      <th>3</th>\n",
       "      <td>2+1</td>\n",
       "      <td>35</td>\n",
       "      <td>80</td>\n",
       "      <td>57.950000</td>\n",
       "    </tr>\n",
       "    <tr>\n",
       "      <th>4</th>\n",
       "      <td>2+kk</td>\n",
       "      <td>34</td>\n",
       "      <td>80</td>\n",
       "      <td>51.166667</td>\n",
       "    </tr>\n",
       "    <tr>\n",
       "      <th>5</th>\n",
       "      <td>3+1</td>\n",
       "      <td>52</td>\n",
       "      <td>110</td>\n",
       "      <td>71.809524</td>\n",
       "    </tr>\n",
       "    <tr>\n",
       "      <th>6</th>\n",
       "      <td>3+kk</td>\n",
       "      <td>12</td>\n",
       "      <td>98</td>\n",
       "      <td>68.062500</td>\n",
       "    </tr>\n",
       "    <tr>\n",
       "      <th>7</th>\n",
       "      <td>4+1</td>\n",
       "      <td>75</td>\n",
       "      <td>98</td>\n",
       "      <td>84.500000</td>\n",
       "    </tr>\n",
       "    <tr>\n",
       "      <th>8</th>\n",
       "      <td>4+kk</td>\n",
       "      <td>100</td>\n",
       "      <td>147</td>\n",
       "      <td>120.000000</td>\n",
       "    </tr>\n",
       "    <tr>\n",
       "      <th>9</th>\n",
       "      <td>atypický</td>\n",
       "      <td>25</td>\n",
       "      <td>93</td>\n",
       "      <td>59.000000</td>\n",
       "    </tr>\n",
       "  </tbody>\n",
       "</table>\n",
       "</div>"
      ],
      "text/plain": [
       "  Dispozicia  min  max        mean\n",
       "0    1 pokoj   20  114   42.090909\n",
       "1        1+1   18   49   35.173913\n",
       "2       1+kk   20   45   29.854839\n",
       "3        2+1   35   80   57.950000\n",
       "4       2+kk   34   80   51.166667\n",
       "5        3+1   52  110   71.809524\n",
       "6       3+kk   12   98   68.062500\n",
       "7        4+1   75   98   84.500000\n",
       "8       4+kk  100  147  120.000000\n",
       "9   atypický   25   93   59.000000"
      ]
     },
     "execution_count": 54,
     "metadata": {},
     "output_type": "execute_result"
    }
   ],
   "source": [
    "df_byty.groupby('Dispozicia')['Rozloha'].agg(['min', 'max', 'mean']).reset_index()"
   ]
  },
  {
   "cell_type": "code",
   "execution_count": 55,
   "id": "73a07568",
   "metadata": {},
   "outputs": [
    {
     "data": {
      "text/plain": [
       "np.float64(48.94174757281554)"
      ]
     },
     "execution_count": 55,
     "metadata": {},
     "output_type": "execute_result"
    }
   ],
   "source": [
    "df_byty['Rozloha'].mean()"
   ]
  },
  {
   "cell_type": "code",
   "execution_count": 75,
   "id": "4da16a9c",
   "metadata": {},
   "outputs": [
    {
     "data": {
      "text/html": [
       "<div>\n",
       "<style scoped>\n",
       "    .dataframe tbody tr th:only-of-type {\n",
       "        vertical-align: middle;\n",
       "    }\n",
       "\n",
       "    .dataframe tbody tr th {\n",
       "        vertical-align: top;\n",
       "    }\n",
       "\n",
       "    .dataframe thead th {\n",
       "        text-align: right;\n",
       "    }\n",
       "</style>\n",
       "<table border=\"1\" class=\"dataframe\">\n",
       "  <thead>\n",
       "    <tr style=\"text-align: right;\">\n",
       "      <th></th>\n",
       "      <th>Dispozicia</th>\n",
       "      <th>priemer_rozloha</th>\n",
       "      <th>priemer_cena</th>\n",
       "      <th>pomer</th>\n",
       "    </tr>\n",
       "  </thead>\n",
       "  <tbody>\n",
       "    <tr>\n",
       "      <th>2</th>\n",
       "      <td>1+kk</td>\n",
       "      <td>29.85</td>\n",
       "      <td>11043.23</td>\n",
       "      <td>369.96</td>\n",
       "    </tr>\n",
       "    <tr>\n",
       "      <th>4</th>\n",
       "      <td>2+kk</td>\n",
       "      <td>51.17</td>\n",
       "      <td>15387.08</td>\n",
       "      <td>300.71</td>\n",
       "    </tr>\n",
       "    <tr>\n",
       "      <th>1</th>\n",
       "      <td>1+1</td>\n",
       "      <td>35.17</td>\n",
       "      <td>10505.13</td>\n",
       "      <td>298.70</td>\n",
       "    </tr>\n",
       "  </tbody>\n",
       "</table>\n",
       "</div>"
      ],
      "text/plain": [
       "  Dispozicia  priemer_rozloha  priemer_cena   pomer\n",
       "2       1+kk            29.85      11043.23  369.96\n",
       "4       2+kk            51.17      15387.08  300.71\n",
       "1        1+1            35.17      10505.13  298.70"
      ]
     },
     "execution_count": 75,
     "metadata": {},
     "output_type": "execute_result"
    }
   ],
   "source": [
    "df_calc = df_byty.groupby('Dispozicia').agg(\n",
    "    priemer_rozloha = ('Rozloha', 'mean'),\n",
    "    priemer_cena = ('Cena', 'mean')\n",
    ").reset_index().round(2)\n",
    "\n",
    "df_calc['pomer'] = (df_calc['priemer_cena'] / df_calc['priemer_rozloha']).round(2)\n",
    "df_calc.nlargest(columns='pomer', n=3)"
   ]
  },
  {
   "cell_type": "markdown",
   "id": "dada59fe",
   "metadata": {},
   "source": [
    "- `Existují zde inzerce bytů, které stojí více, než 20.000,-? Pokud ano, jsou v této cenové hladině inzerovány i maximálně dvoupokojové byty (2+1/2+kk)?`"
   ]
  },
  {
   "cell_type": "code",
   "execution_count": 74,
   "id": "c3b9b8fe",
   "metadata": {},
   "outputs": [
    {
     "data": {
      "text/html": [
       "<div>\n",
       "<style scoped>\n",
       "    .dataframe tbody tr th:only-of-type {\n",
       "        vertical-align: middle;\n",
       "    }\n",
       "\n",
       "    .dataframe tbody tr th {\n",
       "        vertical-align: top;\n",
       "    }\n",
       "\n",
       "    .dataframe thead th {\n",
       "        text-align: right;\n",
       "    }\n",
       "</style>\n",
       "<table border=\"1\" class=\"dataframe\">\n",
       "  <thead>\n",
       "    <tr style=\"text-align: right;\">\n",
       "      <th></th>\n",
       "      <th>Url_inzercie</th>\n",
       "      <th>Lokalita</th>\n",
       "      <th>Cena</th>\n",
       "      <th>Dispozicia</th>\n",
       "    </tr>\n",
       "  </thead>\n",
       "  <tbody>\n",
       "    <tr>\n",
       "      <th>42</th>\n",
       "      <td>https://www.sreality.cz/detail/pronajem/byt/2+...</td>\n",
       "      <td>Moravní, Otrokovice</td>\n",
       "      <td>20990.0</td>\n",
       "      <td>2+kk</td>\n",
       "    </tr>\n",
       "    <tr>\n",
       "      <th>103</th>\n",
       "      <td>https://www.sreality.cz/detail/pronajem/byt/2+...</td>\n",
       "      <td>Partyzánská, Zlín</td>\n",
       "      <td>23500.0</td>\n",
       "      <td>2+kk</td>\n",
       "    </tr>\n",
       "    <tr>\n",
       "      <th>150</th>\n",
       "      <td>https://www.sreality.cz/detail/pronajem/byt/2+...</td>\n",
       "      <td>Štefánikova, Zlín</td>\n",
       "      <td>23900.0</td>\n",
       "      <td>2+kk</td>\n",
       "    </tr>\n",
       "  </tbody>\n",
       "</table>\n",
       "</div>"
      ],
      "text/plain": [
       "                                          Url_inzercie             Lokalita  \\\n",
       "42   https://www.sreality.cz/detail/pronajem/byt/2+...  Moravní, Otrokovice   \n",
       "103  https://www.sreality.cz/detail/pronajem/byt/2+...    Partyzánská, Zlín   \n",
       "150  https://www.sreality.cz/detail/pronajem/byt/2+...    Štefánikova, Zlín   \n",
       "\n",
       "        Cena Dispozicia  \n",
       "42   20990.0       2+kk  \n",
       "103  23500.0       2+kk  \n",
       "150  23900.0       2+kk  "
      ]
     },
     "execution_count": 74,
     "metadata": {},
     "output_type": "execute_result"
    }
   ],
   "source": [
    "df_nad_20k = df_byty.loc[ df_byty['Cena'] > 20000]\n",
    "\n",
    "df_nad_20k_vystup = df_nad_20k.loc[ (df_nad_20k['Dispozicia'] == '2+1') | (df_nad_20k['Dispozicia'] == '2+kk') ]\n",
    "\n",
    "df_nad_20k_vystup[['Url_inzercie', 'Lokalita', 'Cena', 'Dispozicia']].to_csv('vystup.csv', sep=';', encoding='CP1250', index=False)\n",
    "df_nad_20k_vystup[['Url_inzercie', 'Lokalita', 'Cena', 'Dispozicia']]"
   ]
  },
  {
   "cell_type": "markdown",
   "id": "2c2a291e",
   "metadata": {},
   "source": [
    "- `Zjištěte minimální a maximální inzerce pro každou dispozici bytu. Která dispozice má největší rozptyl mezi minimální a maximální inzerovanou cenou?`"
   ]
  },
  {
   "cell_type": "code",
   "execution_count": 34,
   "id": "5b8bd101",
   "metadata": {},
   "outputs": [
    {
     "data": {
      "text/html": [
       "<div>\n",
       "<style scoped>\n",
       "    .dataframe tbody tr th:only-of-type {\n",
       "        vertical-align: middle;\n",
       "    }\n",
       "\n",
       "    .dataframe tbody tr th {\n",
       "        vertical-align: top;\n",
       "    }\n",
       "\n",
       "    .dataframe thead th {\n",
       "        text-align: right;\n",
       "    }\n",
       "</style>\n",
       "<table border=\"1\" class=\"dataframe\">\n",
       "  <thead>\n",
       "    <tr style=\"text-align: right;\">\n",
       "      <th></th>\n",
       "      <th>Dispozicia</th>\n",
       "      <th>min_cena</th>\n",
       "      <th>max_cena</th>\n",
       "      <th>Rozdiel_ceny</th>\n",
       "    </tr>\n",
       "  </thead>\n",
       "  <tbody>\n",
       "    <tr>\n",
       "      <th>6</th>\n",
       "      <td>3+kk</td>\n",
       "      <td>6000.0</td>\n",
       "      <td>36000.0</td>\n",
       "      <td>30000.0</td>\n",
       "    </tr>\n",
       "  </tbody>\n",
       "</table>\n",
       "</div>"
      ],
      "text/plain": [
       "  Dispozicia  min_cena  max_cena  Rozdiel_ceny\n",
       "6       3+kk    6000.0   36000.0       30000.0"
      ]
     },
     "execution_count": 34,
     "metadata": {},
     "output_type": "execute_result"
    }
   ],
   "source": [
    "df_rozlohy = df_byty.groupby('Dispozicia').agg(\n",
    "    min_cena = ('Cena', 'min'),\n",
    "    max_cena = ('Cena', 'max')\n",
    ")\n",
    "\n",
    "df_rozlohy['Rozdiel_ceny'] = df_rozlohy['max_cena'] - df_rozlohy['min_cena']\n",
    "\n",
    "df_rozlohy.reset_index().nlargest(columns='Rozdiel_ceny', n=1)"
   ]
  }
 ],
 "metadata": {
  "kernelspec": {
   "display_name": "Python 3",
   "language": "python",
   "name": "python3"
  },
  "language_info": {
   "codemirror_mode": {
    "name": "ipython",
    "version": 3
   },
   "file_extension": ".py",
   "mimetype": "text/x-python",
   "name": "python",
   "nbconvert_exporter": "python",
   "pygments_lexer": "ipython3",
   "version": "3.13.2"
  }
 },
 "nbformat": 4,
 "nbformat_minor": 5
}
